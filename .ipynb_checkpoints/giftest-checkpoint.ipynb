{
 "cells": [
  {
   "cell_type": "markdown",
   "metadata": {},
   "source": [
    "# Modelling Von Karman Vortices in Parallel by the Lattice Boltzmann Method\n",
    "## Oliver Chapman\n",
    "### 31/03/2019\n",
    "\n",
    "#### Abstract\n",
    "\n",
    "Modelling fluids is a difficult task. It is computationally intensive, mathematically complex and expresses rich behaviours which are often hard to examine computationally. This code is designed to model Von Karman Vortices - an observable phenomenon which results in rhythmic oscilaltions from a randomly perturbed inital state.\n",
    "\n",
    "<img src=\"mpi_vel.gif\" width=\"200%\">\n",
    "\n",
    "Figure 1: This gif shows the velocity in m/s of a fluid passing a circular boundary. The initial state is comprised of random fluctuations around 0.1 m/s which eventually lead to the Von Karman Vortices observed thereafter.\n",
    "\n",
    "This code also seeks to demonstrate the Message Passing Interface (MPI) which allows tasks to be distributed amongst several computational units to be run in parallel. With the aid of the highest level of optimisation provided by gcc, this parallelised C code is capable of running 1,000 to 10,000 faster than similar python code. Parallelisation is therefore a very powerful tool for physics simulations."
   ]
  },
  {
   "cell_type": "markdown",
   "metadata": {},
   "source": [
    "#### Installation Notes\n",
    "\n",
    "This project was created and written on Linux, and run on the Bluecrystal supercomputer at the University of Bristol.\n",
    "\n",
    "The code is divided into three files:\n",
    "1. vortex_mpi.c - This file contains the C code which runs the LBM simulation and outputs frames containing density (rho) and velocity (vel) snapshots.\n",
    "2. bin_to_png.py - This file contains python code which creates the individual frames seen in the gif above.\n",
    "3. mpi.sh - This shell file is used to compile the C code using available optimisations and proceeds to run both the C and python files."
   ]
  }
 ],
 "metadata": {
  "kernelspec": {
   "display_name": "Python 3",
   "language": "python",
   "name": "python3"
  },
  "language_info": {
   "codemirror_mode": {
    "name": "ipython",
    "version": 3
   },
   "file_extension": ".py",
   "mimetype": "text/x-python",
   "name": "python",
   "nbconvert_exporter": "python",
   "pygments_lexer": "ipython3",
   "version": "3.7.4"
  }
 },
 "nbformat": 4,
 "nbformat_minor": 4
}
